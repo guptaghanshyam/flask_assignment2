{
 "cells": [
  {
   "cell_type": "markdown",
   "metadata": {},
   "source": [
    "Q1. Explain GET and POST methods."
   ]
  },
  {
   "cell_type": "markdown",
   "metadata": {},
   "source": [
    "GET and POST are HTTP methods used to communicate with web servers.\n",
    "\n",
    "GET: This method is used to request data from the server. When you enter a URL in your browser's address bar, it sends a GET request to the server to retrieve the requested webpage. It appends data to the URL (in the form of query parameters) and is visible in the URL bar.\n",
    "\n",
    "POST: This method is used to send data to the server to create or update a resource. It is often used when submitting forms on web pages. Data is sent in the request body and is not visible in the URL. This method is more suitable for sensitive or large amounts of data.\n",
    "\n"
   ]
  },
  {
   "cell_type": "markdown",
   "metadata": {},
   "source": [
    "Q2. Why is request used in Flask?\n"
   ]
  },
  {
   "cell_type": "markdown",
   "metadata": {},
   "source": [
    "In Flask, the request object is used to access incoming request data from a client. It allows you to access form data, query parameters, headers, files, and other data sent in the HTTP request. This is crucial for processing user input, handling form submissions, and making decisions based on the data sent by the client."
   ]
  },
  {
   "cell_type": "markdown",
   "metadata": {},
   "source": [
    "Q3. Why is redirect() used in Flask?"
   ]
  },
  {
   "cell_type": "markdown",
   "metadata": {},
   "source": [
    "The redirect() function in Flask is used to redirect the user to a different URL. It is often used after processing a form submission or performing some action that requires the user to be redirected to a different page. For example, after successfully submitting a form, you might want to redirect the user to a \"thank you\" page or their profile page."
   ]
  },
  {
   "cell_type": "markdown",
   "metadata": {},
   "source": [
    "Q4. What are templates in Flask? Why is the render_template() function used?\n",
    "\n",
    "\n"
   ]
  },
  {
   "cell_type": "markdown",
   "metadata": {},
   "source": [
    "Templates in Flask are HTML files that allow you to dynamically generate HTML content by embedding placeholders (usually with Jinja2 syntax) that get replaced with actual data when the template is rendered. This separation of logic and presentation is a key concept in web development.\n",
    "\n",
    "The render_template() function in Flask is used to render these templates. It takes the name of the template file as an argument, along with any variables you want to pass to the template. These variables can then be used within the template to populate dynamic content.\n",
    "\n",
    "\n",
    "\n"
   ]
  },
  {
   "cell_type": "markdown",
   "metadata": {},
   "source": [
    "Q5. Create a simple API. Use Postman to test it. Attach the screenshot of the output in the Jupyter Notebook:"
   ]
  },
  {
   "cell_type": "code",
   "execution_count": 1,
   "metadata": {},
   "outputs": [
    {
     "name": "stdout",
     "output_type": "stream",
     "text": [
      " * Serving Flask app '__main__'\n",
      " * Debug mode: on\n"
     ]
    },
    {
     "name": "stderr",
     "output_type": "stream",
     "text": [
      "WARNING: This is a development server. Do not use it in a production deployment. Use a production WSGI server instead.\n",
      " * Running on http://127.0.0.1:5000\n",
      "Press CTRL+C to quit\n",
      " * Restarting with watchdog (windowsapi)\n"
     ]
    },
    {
     "ename": "SystemExit",
     "evalue": "1",
     "output_type": "error",
     "traceback": [
      "An exception has occurred, use %tb to see the full traceback.\n",
      "\u001b[1;31mSystemExit\u001b[0m\u001b[1;31m:\u001b[0m 1\n"
     ]
    },
    {
     "name": "stderr",
     "output_type": "stream",
     "text": [
      "c:\\Users\\KISHAN\\anaconda3\\lib\\site-packages\\IPython\\core\\interactiveshell.py:3468: UserWarning: To exit: use 'exit', 'quit', or Ctrl-D.\n",
      "  warn(\"To exit: use 'exit', 'quit', or Ctrl-D.\", stacklevel=1)\n"
     ]
    }
   ],
   "source": [
    "from flask import Flask, jsonify\n",
    "\n",
    "app = Flask(__name__)\n",
    "\n",
    "@app.route('/api/hello', methods=['GET'])\n",
    "def hello():\n",
    "    return jsonify(message='Hello, API!')\n",
    "\n",
    "if __name__ == '__main__':\n",
    "    app.run(debug=True)\n",
    "\n"
   ]
  },
  {
   "cell_type": "markdown",
   "metadata": {},
   "source": []
  }
 ],
 "metadata": {
  "kernelspec": {
   "display_name": "base",
   "language": "python",
   "name": "python3"
  },
  "language_info": {
   "codemirror_mode": {
    "name": "ipython",
    "version": 3
   },
   "file_extension": ".py",
   "mimetype": "text/x-python",
   "name": "python",
   "nbconvert_exporter": "python",
   "pygments_lexer": "ipython3",
   "version": "3.10.9"
  },
  "orig_nbformat": 4
 },
 "nbformat": 4,
 "nbformat_minor": 2
}
